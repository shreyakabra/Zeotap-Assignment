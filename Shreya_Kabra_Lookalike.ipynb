{
  "nbformat": 4,
  "nbformat_minor": 0,
  "metadata": {
    "colab": {
      "provenance": [],
      "authorship_tag": "ABX9TyMB5Wb0Hwhulez5IE7+OumM",
      "include_colab_link": true
    },
    "kernelspec": {
      "name": "python3",
      "display_name": "Python 3"
    },
    "language_info": {
      "name": "python"
    }
  },
  "cells": [
    {
      "cell_type": "markdown",
      "metadata": {
        "id": "view-in-github",
        "colab_type": "text"
      },
      "source": [
        "<a href=\"https://colab.research.google.com/github/shreyakabra/Zeotap-Assignment/blob/main/Shreya_Kabra_Lookalike.ipynb\" target=\"_parent\"><img src=\"https://colab.research.google.com/assets/colab-badge.svg\" alt=\"Open In Colab\"/></a>"
      ]
    },
    {
      "cell_type": "code",
      "execution_count": 1,
      "metadata": {
        "colab": {
          "base_uri": "https://localhost:8080/",
          "height": 73
        },
        "id": "T3XAcwZGYiZm",
        "outputId": "54cfc8ac-2f6a-40ae-e159-20cc86f9dfa3"
      },
      "outputs": [
        {
          "output_type": "display_data",
          "data": {
            "text/plain": [
              "<IPython.core.display.HTML object>"
            ],
            "text/html": [
              "\n",
              "     <input type=\"file\" id=\"files-966f2e74-2fb6-4926-9fb3-42384a7ac462\" name=\"files[]\" multiple disabled\n",
              "        style=\"border:none\" />\n",
              "     <output id=\"result-966f2e74-2fb6-4926-9fb3-42384a7ac462\">\n",
              "      Upload widget is only available when the cell has been executed in the\n",
              "      current browser session. Please rerun this cell to enable.\n",
              "      </output>\n",
              "      <script>// Copyright 2017 Google LLC\n",
              "//\n",
              "// Licensed under the Apache License, Version 2.0 (the \"License\");\n",
              "// you may not use this file except in compliance with the License.\n",
              "// You may obtain a copy of the License at\n",
              "//\n",
              "//      http://www.apache.org/licenses/LICENSE-2.0\n",
              "//\n",
              "// Unless required by applicable law or agreed to in writing, software\n",
              "// distributed under the License is distributed on an \"AS IS\" BASIS,\n",
              "// WITHOUT WARRANTIES OR CONDITIONS OF ANY KIND, either express or implied.\n",
              "// See the License for the specific language governing permissions and\n",
              "// limitations under the License.\n",
              "\n",
              "/**\n",
              " * @fileoverview Helpers for google.colab Python module.\n",
              " */\n",
              "(function(scope) {\n",
              "function span(text, styleAttributes = {}) {\n",
              "  const element = document.createElement('span');\n",
              "  element.textContent = text;\n",
              "  for (const key of Object.keys(styleAttributes)) {\n",
              "    element.style[key] = styleAttributes[key];\n",
              "  }\n",
              "  return element;\n",
              "}\n",
              "\n",
              "// Max number of bytes which will be uploaded at a time.\n",
              "const MAX_PAYLOAD_SIZE = 100 * 1024;\n",
              "\n",
              "function _uploadFiles(inputId, outputId) {\n",
              "  const steps = uploadFilesStep(inputId, outputId);\n",
              "  const outputElement = document.getElementById(outputId);\n",
              "  // Cache steps on the outputElement to make it available for the next call\n",
              "  // to uploadFilesContinue from Python.\n",
              "  outputElement.steps = steps;\n",
              "\n",
              "  return _uploadFilesContinue(outputId);\n",
              "}\n",
              "\n",
              "// This is roughly an async generator (not supported in the browser yet),\n",
              "// where there are multiple asynchronous steps and the Python side is going\n",
              "// to poll for completion of each step.\n",
              "// This uses a Promise to block the python side on completion of each step,\n",
              "// then passes the result of the previous step as the input to the next step.\n",
              "function _uploadFilesContinue(outputId) {\n",
              "  const outputElement = document.getElementById(outputId);\n",
              "  const steps = outputElement.steps;\n",
              "\n",
              "  const next = steps.next(outputElement.lastPromiseValue);\n",
              "  return Promise.resolve(next.value.promise).then((value) => {\n",
              "    // Cache the last promise value to make it available to the next\n",
              "    // step of the generator.\n",
              "    outputElement.lastPromiseValue = value;\n",
              "    return next.value.response;\n",
              "  });\n",
              "}\n",
              "\n",
              "/**\n",
              " * Generator function which is called between each async step of the upload\n",
              " * process.\n",
              " * @param {string} inputId Element ID of the input file picker element.\n",
              " * @param {string} outputId Element ID of the output display.\n",
              " * @return {!Iterable<!Object>} Iterable of next steps.\n",
              " */\n",
              "function* uploadFilesStep(inputId, outputId) {\n",
              "  const inputElement = document.getElementById(inputId);\n",
              "  inputElement.disabled = false;\n",
              "\n",
              "  const outputElement = document.getElementById(outputId);\n",
              "  outputElement.innerHTML = '';\n",
              "\n",
              "  const pickedPromise = new Promise((resolve) => {\n",
              "    inputElement.addEventListener('change', (e) => {\n",
              "      resolve(e.target.files);\n",
              "    });\n",
              "  });\n",
              "\n",
              "  const cancel = document.createElement('button');\n",
              "  inputElement.parentElement.appendChild(cancel);\n",
              "  cancel.textContent = 'Cancel upload';\n",
              "  const cancelPromise = new Promise((resolve) => {\n",
              "    cancel.onclick = () => {\n",
              "      resolve(null);\n",
              "    };\n",
              "  });\n",
              "\n",
              "  // Wait for the user to pick the files.\n",
              "  const files = yield {\n",
              "    promise: Promise.race([pickedPromise, cancelPromise]),\n",
              "    response: {\n",
              "      action: 'starting',\n",
              "    }\n",
              "  };\n",
              "\n",
              "  cancel.remove();\n",
              "\n",
              "  // Disable the input element since further picks are not allowed.\n",
              "  inputElement.disabled = true;\n",
              "\n",
              "  if (!files) {\n",
              "    return {\n",
              "      response: {\n",
              "        action: 'complete',\n",
              "      }\n",
              "    };\n",
              "  }\n",
              "\n",
              "  for (const file of files) {\n",
              "    const li = document.createElement('li');\n",
              "    li.append(span(file.name, {fontWeight: 'bold'}));\n",
              "    li.append(span(\n",
              "        `(${file.type || 'n/a'}) - ${file.size} bytes, ` +\n",
              "        `last modified: ${\n",
              "            file.lastModifiedDate ? file.lastModifiedDate.toLocaleDateString() :\n",
              "                                    'n/a'} - `));\n",
              "    const percent = span('0% done');\n",
              "    li.appendChild(percent);\n",
              "\n",
              "    outputElement.appendChild(li);\n",
              "\n",
              "    const fileDataPromise = new Promise((resolve) => {\n",
              "      const reader = new FileReader();\n",
              "      reader.onload = (e) => {\n",
              "        resolve(e.target.result);\n",
              "      };\n",
              "      reader.readAsArrayBuffer(file);\n",
              "    });\n",
              "    // Wait for the data to be ready.\n",
              "    let fileData = yield {\n",
              "      promise: fileDataPromise,\n",
              "      response: {\n",
              "        action: 'continue',\n",
              "      }\n",
              "    };\n",
              "\n",
              "    // Use a chunked sending to avoid message size limits. See b/62115660.\n",
              "    let position = 0;\n",
              "    do {\n",
              "      const length = Math.min(fileData.byteLength - position, MAX_PAYLOAD_SIZE);\n",
              "      const chunk = new Uint8Array(fileData, position, length);\n",
              "      position += length;\n",
              "\n",
              "      const base64 = btoa(String.fromCharCode.apply(null, chunk));\n",
              "      yield {\n",
              "        response: {\n",
              "          action: 'append',\n",
              "          file: file.name,\n",
              "          data: base64,\n",
              "        },\n",
              "      };\n",
              "\n",
              "      let percentDone = fileData.byteLength === 0 ?\n",
              "          100 :\n",
              "          Math.round((position / fileData.byteLength) * 100);\n",
              "      percent.textContent = `${percentDone}% done`;\n",
              "\n",
              "    } while (position < fileData.byteLength);\n",
              "  }\n",
              "\n",
              "  // All done.\n",
              "  yield {\n",
              "    response: {\n",
              "      action: 'complete',\n",
              "    }\n",
              "  };\n",
              "}\n",
              "\n",
              "scope.google = scope.google || {};\n",
              "scope.google.colab = scope.google.colab || {};\n",
              "scope.google.colab._files = {\n",
              "  _uploadFiles,\n",
              "  _uploadFilesContinue,\n",
              "};\n",
              "})(self);\n",
              "</script> "
            ]
          },
          "metadata": {}
        },
        {
          "output_type": "stream",
          "name": "stdout",
          "text": [
            "Saving Zeoptap_Assignment.zip to Zeoptap_Assignment.zip\n"
          ]
        }
      ],
      "source": [
        "from google.colab import files\n",
        "uploaded = files.upload()  # This will open a file dialog to upload the ZIP file\n"
      ]
    },
    {
      "cell_type": "code",
      "source": [
        "import zipfile\n",
        "import os\n",
        "\n",
        "# Specify the zip file name\n",
        "zip_file = \"Zeoptap_Assignment.zip\"  # Replace with the correct file name if different\n",
        "\n",
        "# Extract the zip file\n",
        "with zipfile.ZipFile(zip_file, 'r') as zip_ref:\n",
        "    zip_ref.extractall(\"Zeoptap_Assignment\")\n",
        "\n",
        "# Check the extracted files\n",
        "os.listdir(\"Zeoptap_Assignment\")\n"
      ],
      "metadata": {
        "colab": {
          "base_uri": "https://localhost:8080/"
        },
        "id": "UUVf9jS4wCL4",
        "outputId": "a970c2f3-0455-4a94-d310-39a6615282f0"
      },
      "execution_count": 2,
      "outputs": [
        {
          "output_type": "execute_result",
          "data": {
            "text/plain": [
              "['Zeoptap_Assignment']"
            ]
          },
          "metadata": {},
          "execution_count": 2
        }
      ]
    },
    {
      "cell_type": "code",
      "source": [
        "pip install fpdf"
      ],
      "metadata": {
        "colab": {
          "base_uri": "https://localhost:8080/"
        },
        "id": "4drpKbyuwNw9",
        "outputId": "096008f8-34d4-448e-cde3-efbf012468a7"
      },
      "execution_count": 4,
      "outputs": [
        {
          "output_type": "stream",
          "name": "stdout",
          "text": [
            "Collecting fpdf\n",
            "  Downloading fpdf-1.7.2.tar.gz (39 kB)\n",
            "  Preparing metadata (setup.py) ... \u001b[?25l\u001b[?25hdone\n",
            "Building wheels for collected packages: fpdf\n",
            "  Building wheel for fpdf (setup.py) ... \u001b[?25l\u001b[?25hdone\n",
            "  Created wheel for fpdf: filename=fpdf-1.7.2-py2.py3-none-any.whl size=40704 sha256=d38e63246f7f3034d4c74e2879e9edeeac970581a9e6adda60d13f37b2116402\n",
            "  Stored in directory: /root/.cache/pip/wheels/65/4f/66/bbda9866da446a72e206d6484cd97381cbc7859a7068541c36\n",
            "Successfully built fpdf\n",
            "Installing collected packages: fpdf\n",
            "Successfully installed fpdf-1.7.2\n"
          ]
        }
      ]
    },
    {
      "cell_type": "code",
      "source": [
        "# Import libraries\n",
        "import pandas as pd\n",
        "import numpy as np\n",
        "import matplotlib.pyplot as plt\n",
        "import seaborn as sns\n",
        "from sklearn.metrics.pairwise import cosine_similarity\n",
        "from sklearn.preprocessing import StandardScaler\n",
        "from sklearn.cluster import KMeans\n",
        "from sklearn.metrics import davies_bouldin_score\n",
        "from fpdf import FPDF\n",
        "\n",
        "# Load the datasets\n",
        "customers = pd.read_csv(\"Zeoptap_Assignment/Zeoptap_Assignment/Customers.csv\")\n",
        "products = pd.read_csv(\"Zeoptap_Assignment/Zeoptap_Assignment/Products.csv\")\n",
        "transactions = pd.read_csv(\"Zeoptap_Assignment/Zeoptap_Assignment/Transactions.csv\")"
      ],
      "metadata": {
        "id": "kz10fTLpwHHZ"
      },
      "execution_count": 5,
      "outputs": []
    },
    {
      "cell_type": "markdown",
      "source": [
        "Task 2: Lookalike Model"
      ],
      "metadata": {
        "id": "bU5Z50K-0qL-"
      }
    },
    {
      "cell_type": "code",
      "source": [
        "# Prepare data for lookalike model by merging customer and transaction data\n",
        "customer_transactions = transactions.groupby(\"CustomerID\").agg({\n",
        "    \"Quantity\": \"sum\",\n",
        "    \"TotalValue\": \"sum\"\n",
        "}).reset_index()"
      ],
      "metadata": {
        "id": "SSj8cH8NwK4p"
      },
      "execution_count": 6,
      "outputs": []
    },
    {
      "cell_type": "code",
      "source": [
        "# Merging with customer profile data\n",
        "customer_profiles = pd.merge(customers, customer_transactions, on=\"CustomerID\", how=\"inner\")"
      ],
      "metadata": {
        "id": "8P9c_VlPwfBB"
      },
      "execution_count": 7,
      "outputs": []
    },
    {
      "cell_type": "code",
      "source": [
        "# Feature scaling\n",
        "scaler = StandardScaler()\n",
        "profile_features = scaler.fit_transform(customer_profiles[[\"Quantity\", \"TotalValue\"]])"
      ],
      "metadata": {
        "id": "pymxCuKuwhal"
      },
      "execution_count": 8,
      "outputs": []
    },
    {
      "cell_type": "code",
      "source": [
        "# Compute cosine similarity\n",
        "similarity_matrix = cosine_similarity(profile_features)"
      ],
      "metadata": {
        "id": "SS7PxETjwpKg"
      },
      "execution_count": 9,
      "outputs": []
    },
    {
      "cell_type": "code",
      "source": [
        "similarity_matrix"
      ],
      "metadata": {
        "colab": {
          "base_uri": "https://localhost:8080/"
        },
        "id": "M4jg2rR-x93V",
        "outputId": "02801903-a1e4-4d9b-f977-2a57564b0028"
      },
      "execution_count": 16,
      "outputs": [
        {
          "output_type": "execute_result",
          "data": {
            "text/plain": [
              "array([[ 1.        ,  0.80759386,  0.0024998 , ...,  0.96902986,\n",
              "         0.89659207, -0.89647264],\n",
              "       [ 0.80759386,  1.        ,  0.59175604, ...,  0.92821483,\n",
              "         0.98525255, -0.98529864],\n",
              "       [ 0.0024998 ,  0.59175604,  1.        , ...,  0.24936518,\n",
              "         0.4450973 , -0.44533872],\n",
              "       ...,\n",
              "       [ 0.96902986,  0.92821483,  0.24936518, ...,  1.        ,\n",
              "         0.97818527, -0.97812923],\n",
              "       [ 0.89659207,  0.98525255,  0.4450973 , ...,  0.97818527,\n",
              "         1.        , -0.99999996],\n",
              "       [-0.89647264, -0.98529864, -0.44533872, ..., -0.97812923,\n",
              "        -0.99999996,  1.        ]])"
            ]
          },
          "metadata": {},
          "execution_count": 16
        }
      ]
    },
    {
      "cell_type": "code",
      "source": [
        "# Generate lookalike recommendations for the first 20 customers\n",
        "lookalike_results = {}\n",
        "\n",
        "for idx, customer_id in enumerate(customer_profiles[\"CustomerID\"][:20]):\n",
        "    # Get similarity scores for the customer\n",
        "    similarity_scores = list(enumerate(similarity_matrix[idx]))\n",
        "    # Exclude self-matching and sort by similarity score\n",
        "    similarity_scores = sorted(similarity_scores, key=lambda x: x[1], reverse=True)[1:4]\n",
        "    # Store top 3 similar customers\n",
        "    lookalike_results[customer_id] = [\n",
        "        (customer_profiles[\"CustomerID\"].iloc[i], score) for i, score in similarity_scores\n",
        "    ]"
      ],
      "metadata": {
        "id": "7b-4miUGwv3i"
      },
      "execution_count": 11,
      "outputs": []
    },
    {
      "cell_type": "code",
      "source": [
        "lookalike_results"
      ],
      "metadata": {
        "colab": {
          "base_uri": "https://localhost:8080/"
        },
        "id": "rXxIlweRyAtR",
        "outputId": "cec0df2f-ca13-48e1-8280-3956d55ec70c"
      },
      "execution_count": 17,
      "outputs": [
        {
          "output_type": "execute_result",
          "data": {
            "text/plain": [
              "{'C0001': [('C0085', 0.9999990504724361),\n",
              "  ('C0042', 0.9998215747742084),\n",
              "  ('C0089', 0.9997850140987701)],\n",
              " 'C0002': [('C0157', 0.9999942410168485),\n",
              "  ('C0166', 0.9998750108430909),\n",
              "  ('C0029', 0.9998254255985105)],\n",
              " 'C0003': [('C0111', 0.9940081095432594),\n",
              "  ('C0160', 0.9904545038572361),\n",
              "  ('C0147', 0.987638271921255)],\n",
              " 'C0004': [('C0162', 0.9999999965087093),\n",
              "  ('C0165', 0.9999594720114721),\n",
              "  ('C0090', 0.9986409558134951)],\n",
              " 'C0005': [('C0080', 0.999982235548051),\n",
              "  ('C0167', 0.9999750393711485),\n",
              "  ('C0177', 0.9999281138035957)],\n",
              " 'C0006': [('C0079', 0.9999656845154902),\n",
              "  ('C0117', 0.9956703718685657),\n",
              "  ('C0196', 0.9903168212584458)],\n",
              " 'C0007': [('C0146', 0.9999895943808703),\n",
              "  ('C0125', 0.9998372825489154),\n",
              "  ('C0061', 0.9997162141129127)],\n",
              " 'C0008': [('C0109', 0.9998419065580372),\n",
              "  ('C0136', 0.9995449075266115),\n",
              "  ('C0124', 0.9988501083510458)],\n",
              " 'C0009': [('C0015', 0.9999998280836607),\n",
              "  ('C0131', 0.9999969915843526),\n",
              "  ('C0193', 0.9999942852290302)],\n",
              " 'C0010': [('C0176', 0.9977495907269393),\n",
              "  ('C0027', 0.9933907927482108),\n",
              "  ('C0030', 0.9784025791083272)],\n",
              " 'C0011': [('C0139', 0.9995752579210654),\n",
              "  ('C0100', 0.9992186065437542),\n",
              "  ('C0023', 0.9981601131570049)],\n",
              " 'C0012': [('C0101', 0.999958735499151),\n",
              "  ('C0156', 0.9998710212245943),\n",
              "  ('C0093', 0.9998427725809736)],\n",
              " 'C0013': [('C0067', 0.9998962934726959),\n",
              "  ('C0138', 0.9998109989494288),\n",
              "  ('C0141', 0.9997829345234196)],\n",
              " 'C0014': [('C0192', 0.999999195523505),\n",
              "  ('C0159', 0.9999990484005253),\n",
              "  ('C0186', 0.999979545291725)],\n",
              " 'C0015': [('C0009', 0.9999998280836607),\n",
              "  ('C0131', 0.9999982579939216),\n",
              "  ('C0120', 0.9999928702070294)],\n",
              " 'C0016': [('C0154', 0.99936838556866),\n",
              "  ('C0040', 0.9960728766406053),\n",
              "  ('C0026', 0.993943060754397)],\n",
              " 'C0017': [('C0075', 0.9999997918900845),\n",
              "  ('C0179', 0.999792419915155),\n",
              "  ('C0039', 0.9997215280460565)],\n",
              " 'C0018': [('C0045', 0.9999974739628396),\n",
              "  ('C0041', 0.9997600993045761),\n",
              "  ('C0068', 0.9994040673278539)],\n",
              " 'C0019': [('C0142', 0.9998871390943336),\n",
              "  ('C0174', 0.9998674238866583),\n",
              "  ('C0055', 0.9993745857345483)],\n",
              " 'C0020': [('C0058', 0.9999997942980385),\n",
              "  ('C0193', 0.999998649644113),\n",
              "  ('C0198', 0.9999983115151304)]}"
            ]
          },
          "metadata": {},
          "execution_count": 17
        }
      ]
    },
    {
      "cell_type": "code",
      "source": [
        "# Save results\n",
        "lookalike_df = pd.DataFrame([\n",
        "    {\"CustomerID\": cust_id, \"Lookalikes\": lookalikes}\n",
        "    for cust_id, lookalikes in lookalike_results.items()\n",
        "])\n",
        "lookalike_df.to_csv(\"Shreya_Kabra_Lookalike.csv\", index=False)"
      ],
      "metadata": {
        "id": "M2aXJH5Cw3Lf"
      },
      "execution_count": 13,
      "outputs": []
    },
    {
      "cell_type": "code",
      "source": [
        "data = pd.read_csv(\"Shreya_Kabra_Lookalike.csv\")"
      ],
      "metadata": {
        "id": "XlLi1CJ7xL-T"
      },
      "execution_count": 14,
      "outputs": []
    },
    {
      "cell_type": "code",
      "source": [
        "data.head()"
      ],
      "metadata": {
        "colab": {
          "base_uri": "https://localhost:8080/",
          "height": 206
        },
        "id": "l7boZswuxOuP",
        "outputId": "acc7adb5-c5ac-4a12-a81c-666846e145b0"
      },
      "execution_count": 15,
      "outputs": [
        {
          "output_type": "execute_result",
          "data": {
            "text/plain": [
              "  CustomerID                                         Lookalikes\n",
              "0      C0001  [('C0085', 0.9999990504724361), ('C0042', 0.99...\n",
              "1      C0002  [('C0157', 0.9999942410168485), ('C0166', 0.99...\n",
              "2      C0003  [('C0111', 0.9940081095432594), ('C0160', 0.99...\n",
              "3      C0004  [('C0162', 0.9999999965087093), ('C0165', 0.99...\n",
              "4      C0005  [('C0080', 0.999982235548051), ('C0167', 0.999..."
            ],
            "text/html": [
              "\n",
              "  <div id=\"df-46649854-8a38-49b6-8e4e-a212b3b53d7d\" class=\"colab-df-container\">\n",
              "    <div>\n",
              "<style scoped>\n",
              "    .dataframe tbody tr th:only-of-type {\n",
              "        vertical-align: middle;\n",
              "    }\n",
              "\n",
              "    .dataframe tbody tr th {\n",
              "        vertical-align: top;\n",
              "    }\n",
              "\n",
              "    .dataframe thead th {\n",
              "        text-align: right;\n",
              "    }\n",
              "</style>\n",
              "<table border=\"1\" class=\"dataframe\">\n",
              "  <thead>\n",
              "    <tr style=\"text-align: right;\">\n",
              "      <th></th>\n",
              "      <th>CustomerID</th>\n",
              "      <th>Lookalikes</th>\n",
              "    </tr>\n",
              "  </thead>\n",
              "  <tbody>\n",
              "    <tr>\n",
              "      <th>0</th>\n",
              "      <td>C0001</td>\n",
              "      <td>[('C0085', 0.9999990504724361), ('C0042', 0.99...</td>\n",
              "    </tr>\n",
              "    <tr>\n",
              "      <th>1</th>\n",
              "      <td>C0002</td>\n",
              "      <td>[('C0157', 0.9999942410168485), ('C0166', 0.99...</td>\n",
              "    </tr>\n",
              "    <tr>\n",
              "      <th>2</th>\n",
              "      <td>C0003</td>\n",
              "      <td>[('C0111', 0.9940081095432594), ('C0160', 0.99...</td>\n",
              "    </tr>\n",
              "    <tr>\n",
              "      <th>3</th>\n",
              "      <td>C0004</td>\n",
              "      <td>[('C0162', 0.9999999965087093), ('C0165', 0.99...</td>\n",
              "    </tr>\n",
              "    <tr>\n",
              "      <th>4</th>\n",
              "      <td>C0005</td>\n",
              "      <td>[('C0080', 0.999982235548051), ('C0167', 0.999...</td>\n",
              "    </tr>\n",
              "  </tbody>\n",
              "</table>\n",
              "</div>\n",
              "    <div class=\"colab-df-buttons\">\n",
              "\n",
              "  <div class=\"colab-df-container\">\n",
              "    <button class=\"colab-df-convert\" onclick=\"convertToInteractive('df-46649854-8a38-49b6-8e4e-a212b3b53d7d')\"\n",
              "            title=\"Convert this dataframe to an interactive table.\"\n",
              "            style=\"display:none;\">\n",
              "\n",
              "  <svg xmlns=\"http://www.w3.org/2000/svg\" height=\"24px\" viewBox=\"0 -960 960 960\">\n",
              "    <path d=\"M120-120v-720h720v720H120Zm60-500h600v-160H180v160Zm220 220h160v-160H400v160Zm0 220h160v-160H400v160ZM180-400h160v-160H180v160Zm440 0h160v-160H620v160ZM180-180h160v-160H180v160Zm440 0h160v-160H620v160Z\"/>\n",
              "  </svg>\n",
              "    </button>\n",
              "\n",
              "  <style>\n",
              "    .colab-df-container {\n",
              "      display:flex;\n",
              "      gap: 12px;\n",
              "    }\n",
              "\n",
              "    .colab-df-convert {\n",
              "      background-color: #E8F0FE;\n",
              "      border: none;\n",
              "      border-radius: 50%;\n",
              "      cursor: pointer;\n",
              "      display: none;\n",
              "      fill: #1967D2;\n",
              "      height: 32px;\n",
              "      padding: 0 0 0 0;\n",
              "      width: 32px;\n",
              "    }\n",
              "\n",
              "    .colab-df-convert:hover {\n",
              "      background-color: #E2EBFA;\n",
              "      box-shadow: 0px 1px 2px rgba(60, 64, 67, 0.3), 0px 1px 3px 1px rgba(60, 64, 67, 0.15);\n",
              "      fill: #174EA6;\n",
              "    }\n",
              "\n",
              "    .colab-df-buttons div {\n",
              "      margin-bottom: 4px;\n",
              "    }\n",
              "\n",
              "    [theme=dark] .colab-df-convert {\n",
              "      background-color: #3B4455;\n",
              "      fill: #D2E3FC;\n",
              "    }\n",
              "\n",
              "    [theme=dark] .colab-df-convert:hover {\n",
              "      background-color: #434B5C;\n",
              "      box-shadow: 0px 1px 3px 1px rgba(0, 0, 0, 0.15);\n",
              "      filter: drop-shadow(0px 1px 2px rgba(0, 0, 0, 0.3));\n",
              "      fill: #FFFFFF;\n",
              "    }\n",
              "  </style>\n",
              "\n",
              "    <script>\n",
              "      const buttonEl =\n",
              "        document.querySelector('#df-46649854-8a38-49b6-8e4e-a212b3b53d7d button.colab-df-convert');\n",
              "      buttonEl.style.display =\n",
              "        google.colab.kernel.accessAllowed ? 'block' : 'none';\n",
              "\n",
              "      async function convertToInteractive(key) {\n",
              "        const element = document.querySelector('#df-46649854-8a38-49b6-8e4e-a212b3b53d7d');\n",
              "        const dataTable =\n",
              "          await google.colab.kernel.invokeFunction('convertToInteractive',\n",
              "                                                    [key], {});\n",
              "        if (!dataTable) return;\n",
              "\n",
              "        const docLinkHtml = 'Like what you see? Visit the ' +\n",
              "          '<a target=\"_blank\" href=https://colab.research.google.com/notebooks/data_table.ipynb>data table notebook</a>'\n",
              "          + ' to learn more about interactive tables.';\n",
              "        element.innerHTML = '';\n",
              "        dataTable['output_type'] = 'display_data';\n",
              "        await google.colab.output.renderOutput(dataTable, element);\n",
              "        const docLink = document.createElement('div');\n",
              "        docLink.innerHTML = docLinkHtml;\n",
              "        element.appendChild(docLink);\n",
              "      }\n",
              "    </script>\n",
              "  </div>\n",
              "\n",
              "\n",
              "<div id=\"df-dc9de858-2f6b-4d84-8de3-58cb1fff393c\">\n",
              "  <button class=\"colab-df-quickchart\" onclick=\"quickchart('df-dc9de858-2f6b-4d84-8de3-58cb1fff393c')\"\n",
              "            title=\"Suggest charts\"\n",
              "            style=\"display:none;\">\n",
              "\n",
              "<svg xmlns=\"http://www.w3.org/2000/svg\" height=\"24px\"viewBox=\"0 0 24 24\"\n",
              "     width=\"24px\">\n",
              "    <g>\n",
              "        <path d=\"M19 3H5c-1.1 0-2 .9-2 2v14c0 1.1.9 2 2 2h14c1.1 0 2-.9 2-2V5c0-1.1-.9-2-2-2zM9 17H7v-7h2v7zm4 0h-2V7h2v10zm4 0h-2v-4h2v4z\"/>\n",
              "    </g>\n",
              "</svg>\n",
              "  </button>\n",
              "\n",
              "<style>\n",
              "  .colab-df-quickchart {\n",
              "      --bg-color: #E8F0FE;\n",
              "      --fill-color: #1967D2;\n",
              "      --hover-bg-color: #E2EBFA;\n",
              "      --hover-fill-color: #174EA6;\n",
              "      --disabled-fill-color: #AAA;\n",
              "      --disabled-bg-color: #DDD;\n",
              "  }\n",
              "\n",
              "  [theme=dark] .colab-df-quickchart {\n",
              "      --bg-color: #3B4455;\n",
              "      --fill-color: #D2E3FC;\n",
              "      --hover-bg-color: #434B5C;\n",
              "      --hover-fill-color: #FFFFFF;\n",
              "      --disabled-bg-color: #3B4455;\n",
              "      --disabled-fill-color: #666;\n",
              "  }\n",
              "\n",
              "  .colab-df-quickchart {\n",
              "    background-color: var(--bg-color);\n",
              "    border: none;\n",
              "    border-radius: 50%;\n",
              "    cursor: pointer;\n",
              "    display: none;\n",
              "    fill: var(--fill-color);\n",
              "    height: 32px;\n",
              "    padding: 0;\n",
              "    width: 32px;\n",
              "  }\n",
              "\n",
              "  .colab-df-quickchart:hover {\n",
              "    background-color: var(--hover-bg-color);\n",
              "    box-shadow: 0 1px 2px rgba(60, 64, 67, 0.3), 0 1px 3px 1px rgba(60, 64, 67, 0.15);\n",
              "    fill: var(--button-hover-fill-color);\n",
              "  }\n",
              "\n",
              "  .colab-df-quickchart-complete:disabled,\n",
              "  .colab-df-quickchart-complete:disabled:hover {\n",
              "    background-color: var(--disabled-bg-color);\n",
              "    fill: var(--disabled-fill-color);\n",
              "    box-shadow: none;\n",
              "  }\n",
              "\n",
              "  .colab-df-spinner {\n",
              "    border: 2px solid var(--fill-color);\n",
              "    border-color: transparent;\n",
              "    border-bottom-color: var(--fill-color);\n",
              "    animation:\n",
              "      spin 1s steps(1) infinite;\n",
              "  }\n",
              "\n",
              "  @keyframes spin {\n",
              "    0% {\n",
              "      border-color: transparent;\n",
              "      border-bottom-color: var(--fill-color);\n",
              "      border-left-color: var(--fill-color);\n",
              "    }\n",
              "    20% {\n",
              "      border-color: transparent;\n",
              "      border-left-color: var(--fill-color);\n",
              "      border-top-color: var(--fill-color);\n",
              "    }\n",
              "    30% {\n",
              "      border-color: transparent;\n",
              "      border-left-color: var(--fill-color);\n",
              "      border-top-color: var(--fill-color);\n",
              "      border-right-color: var(--fill-color);\n",
              "    }\n",
              "    40% {\n",
              "      border-color: transparent;\n",
              "      border-right-color: var(--fill-color);\n",
              "      border-top-color: var(--fill-color);\n",
              "    }\n",
              "    60% {\n",
              "      border-color: transparent;\n",
              "      border-right-color: var(--fill-color);\n",
              "    }\n",
              "    80% {\n",
              "      border-color: transparent;\n",
              "      border-right-color: var(--fill-color);\n",
              "      border-bottom-color: var(--fill-color);\n",
              "    }\n",
              "    90% {\n",
              "      border-color: transparent;\n",
              "      border-bottom-color: var(--fill-color);\n",
              "    }\n",
              "  }\n",
              "</style>\n",
              "\n",
              "  <script>\n",
              "    async function quickchart(key) {\n",
              "      const quickchartButtonEl =\n",
              "        document.querySelector('#' + key + ' button');\n",
              "      quickchartButtonEl.disabled = true;  // To prevent multiple clicks.\n",
              "      quickchartButtonEl.classList.add('colab-df-spinner');\n",
              "      try {\n",
              "        const charts = await google.colab.kernel.invokeFunction(\n",
              "            'suggestCharts', [key], {});\n",
              "      } catch (error) {\n",
              "        console.error('Error during call to suggestCharts:', error);\n",
              "      }\n",
              "      quickchartButtonEl.classList.remove('colab-df-spinner');\n",
              "      quickchartButtonEl.classList.add('colab-df-quickchart-complete');\n",
              "    }\n",
              "    (() => {\n",
              "      let quickchartButtonEl =\n",
              "        document.querySelector('#df-dc9de858-2f6b-4d84-8de3-58cb1fff393c button');\n",
              "      quickchartButtonEl.style.display =\n",
              "        google.colab.kernel.accessAllowed ? 'block' : 'none';\n",
              "    })();\n",
              "  </script>\n",
              "</div>\n",
              "\n",
              "    </div>\n",
              "  </div>\n"
            ],
            "application/vnd.google.colaboratory.intrinsic+json": {
              "type": "dataframe",
              "variable_name": "data",
              "summary": "{\n  \"name\": \"data\",\n  \"rows\": 20,\n  \"fields\": [\n    {\n      \"column\": \"CustomerID\",\n      \"properties\": {\n        \"dtype\": \"string\",\n        \"num_unique_values\": 20,\n        \"samples\": [\n          \"C0001\",\n          \"C0018\",\n          \"C0016\"\n        ],\n        \"semantic_type\": \"\",\n        \"description\": \"\"\n      }\n    },\n    {\n      \"column\": \"Lookalikes\",\n      \"properties\": {\n        \"dtype\": \"string\",\n        \"num_unique_values\": 20,\n        \"samples\": [\n          \"[('C0085', 0.9999990504724361), ('C0042', 0.9998215747742084), ('C0089', 0.9997850140987701)]\",\n          \"[('C0045', 0.9999974739628396), ('C0041', 0.9997600993045761), ('C0068', 0.9994040673278539)]\",\n          \"[('C0154', 0.99936838556866), ('C0040', 0.9960728766406053), ('C0026', 0.993943060754397)]\"\n        ],\n        \"semantic_type\": \"\",\n        \"description\": \"\"\n      }\n    }\n  ]\n}"
            }
          },
          "metadata": {},
          "execution_count": 15
        }
      ]
    },
    {
      "cell_type": "code",
      "source": [
        "# Evaluate Recommendations\n",
        "def evaluate_lookalike(lookalike_results, customer_profiles, similarity_matrix):\n",
        "    scores = []\n",
        "    for cust_id, recommendations in lookalike_results.items():\n",
        "        cust_index = customer_profiles[customer_profiles[\"CustomerID\"] == cust_id].index[0]\n",
        "        for rec_id, score in recommendations:\n",
        "            rec_index = customer_profiles[customer_profiles[\"CustomerID\"] == rec_id].index[0]\n",
        "            # Verify if similarity scores match\n",
        "            computed_score = similarity_matrix[cust_index, rec_index]\n",
        "            scores.append(abs(score - computed_score) < 1e-5)  # Tolerance for floating-point errors\n",
        "    # Calculate accuracy as a percentage of correctly matching similarity scores\n",
        "    accuracy = sum(scores) / len(scores) * 100\n",
        "    return accuracy\n",
        "\n",
        "# Compute model accuracy\n",
        "accuracy = evaluate_lookalike(lookalike_results, customer_profiles, similarity_matrix)\n",
        "print(f\"Model Accuracy: {accuracy:.2f}%\")\n",
        "\n",
        "# Display sample recommendations for validation\n",
        "print(\"\\nSample Recommendations:\")\n",
        "for cust_id, recommendations in list(lookalike_results.items())[:5]:  # Show top 5 for brevity\n",
        "    print(f\"Customer {cust_id}: {[f'({rec_id}, {score:.2f})' for rec_id, score in recommendations]}\")"
      ],
      "metadata": {
        "colab": {
          "base_uri": "https://localhost:8080/"
        },
        "id": "5SBnIw7jxQjN",
        "outputId": "289c79fe-28c4-4ffb-85ee-9c981c7b1a52"
      },
      "execution_count": 18,
      "outputs": [
        {
          "output_type": "stream",
          "name": "stdout",
          "text": [
            "Model Accuracy: 100.00%\n",
            "\n",
            "Sample Recommendations:\n",
            "Customer C0001: ['(C0085, 1.00)', '(C0042, 1.00)', '(C0089, 1.00)']\n",
            "Customer C0002: ['(C0157, 1.00)', '(C0166, 1.00)', '(C0029, 1.00)']\n",
            "Customer C0003: ['(C0111, 0.99)', '(C0160, 0.99)', '(C0147, 0.99)']\n",
            "Customer C0004: ['(C0162, 1.00)', '(C0165, 1.00)', '(C0090, 1.00)']\n",
            "Customer C0005: ['(C0080, 1.00)', '(C0167, 1.00)', '(C0177, 1.00)']\n"
          ]
        }
      ]
    },
    {
      "cell_type": "code",
      "source": [],
      "metadata": {
        "id": "zHNthhN6yIvy"
      },
      "execution_count": null,
      "outputs": []
    }
  ]
}